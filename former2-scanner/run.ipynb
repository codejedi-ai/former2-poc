{
 "cells": [
  {
   "cell_type": "code",
   "execution_count": 12,
   "metadata": {},
   "outputs": [],
   "source": [
    "# read in the Former2_accessKeys.csv file and set the AWS_ACCESS_KEY_ID and AWS_SECRET_ACCESS_KEY environment variables\n",
    "# then run the docker build \n",
    "\n",
    "import pandas as pd\n",
    "import subprocess\n",
    "import os\n",
    "\n",
    "# Load AWS credentials from CSV file using pandas\n",
    "df = pd.read_csv('Former2_accessKeys.csv')\n",
    "aws_access_key_id = df['Access key ID'].iloc[0]\n",
    "aws_secret_access_key = df['Secret access key'].iloc[0]\n",
    "\n",
    "# Define the AWS region\n",
    "aws_region = \"us-east-1\"\n",
    "search_tag = \"Migration1234\"\n",
    "# Define the path for data binding\n",
    "data_path = os.path.join(os.getcwd(), \"data\")\n",
    "\n",
    "# Command to run the Docker container with AWS credentials and region\n",
    "command = [\n",
    "    \"docker\", \"run\", \"-d\", \"-it\", \"--name\", \"former-3-run\",\n",
    "    \"--mount\", f\"type=bind,source={data_path},target=/data\",\n",
    "    \"-e\", f\"AWS_ACCESS_KEY_ID={aws_access_key_id}\",\n",
    "    \"-e\", f\"AWS_SECRET_ACCESS_KEY={aws_secret_access_key}\",\n",
    "    \"-e\", f\"AWS_REGION={aws_region}\",\n",
    "    # add search filter SEARCH_FILTER\n",
    "    \"-e\", f\"SEARCH_FILTER={search_tag}\", \"former3\"\n",
    "\n",
    "]\n",
    "\n",
    "subprocess.run(command)"
   ]
  }
 ],
 "metadata": {
  "kernelspec": {
   "display_name": ".venv",
   "language": "python",
   "name": "python3"
  },
  "language_info": {
   "codemirror_mode": {
    "name": "ipython",
    "version": 3
   },
   "file_extension": ".py",
   "mimetype": "text/x-python",
   "name": "python",
   "nbconvert_exporter": "python",
   "pygments_lexer": "ipython3",
   "version": "3.12.4"
  }
 },
 "nbformat": 4,
 "nbformat_minor": 2
}
